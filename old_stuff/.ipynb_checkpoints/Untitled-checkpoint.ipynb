{
 "cells": [
  {
   "cell_type": "code",
   "execution_count": 108,
   "metadata": {},
   "outputs": [],
   "source": [
    "import numpy as np\n",
    "import time, sys\n",
    "import scipy.sparse as sps\n",
    "\n",
    "def check_matrix(X, format='csc', dtype=np.float32):\n",
    "    if format == 'csc' and not isinstance(X, sps.csc_matrix):\n",
    "        return X.tocsc().astype(dtype)\n",
    "    elif format == 'csr' and not isinstance(X, sps.csr_matrix):\n",
    "        return X.tocsr().astype(dtype)\n",
    "    elif format == 'coo' and not isinstance(X, sps.coo_matrix):\n",
    "        return X.tocoo().astype(dtype)\n",
    "    elif format == 'dok' and not isinstance(X, sps.dok_matrix):\n",
    "        return X.todok().astype(dtype)\n",
    "    elif format == 'bsr' and not isinstance(X, sps.bsr_matrix):\n",
    "        return X.tobsr().astype(dtype)\n",
    "    elif format == 'dia' and not isinstance(X, sps.dia_matrix):\n",
    "        return X.todia().astype(dtype)\n",
    "    elif format == 'lil' and not isinstance(X, sps.lil_matrix):\n",
    "        return X.tolil().astype(dtype)\n",
    "    else:\n",
    "        return X.astype(dtype)\n",
    "\n",
    "class Cosine_Similarity(object):\n",
    "\n",
    "    def __init__(self, ICM, k=100):\n",
    "        self.diop = k\n",
    "        self.ICM = ICM.copy()\n",
    "        self._S = None\n",
    "\n",
    "    def compute(self):\n",
    "        check_matrix(self.ICM, 'csc')\n",
    "        S = np.dot(self.ICM, self.ICM.transpose())\n",
    "        S.setdiag(0)\n",
    "        self._S = S\n",
    "        self._weighted_S = S\n",
    "        return S\n",
    "\n",
    "    def assign_weights(self, w):\n",
    "        self._weighted_S = np.dot(self._S, w )\n",
    "        return  self._weighted_S\n",
    "\n",
    "    def topK(self, k):\n",
    "\n",
    "        topk_matrix = []\n",
    "        values = sps.csr_matrix((self._weighted_S.shape[0], self._weighted_S.shape[1]))\n",
    "\n",
    "        if (self._weighted_S != None):\n",
    "            for row_index in range(self._weighted_S.shape[0]):\n",
    "                row = self._weighted_S.getrow(row_index).toarray().squeeze()\n",
    "                #item_data = self.ICM[row, :]\n",
    "                #item_data = item_data.toarray.squeeze()\n",
    "\n",
    "                # partition row placing at the k-th position element\n",
    "                # that would occupy that position in an ordered array.\n",
    "                # then, move all elements greater or equal than that\n",
    "                # to the left partition and elements smaller to the\n",
    "                # right partition. since we are interested only about\n",
    "                # the top k elements, e.g. the left part of the array\n",
    "                #  we want to select only those using [0:topK]\n",
    "\n",
    "                topK_items = np.argpartition(row, k-1, axis=0)[0:k]\n",
    "\n",
    "                # now we want to order the topK_items we found before\n",
    "                # so that we can check the most similar items in order\n",
    "                topK_items_sorted = np.argsort(row[topK_items])\n",
    "                topk_matrix.append(topK_items_sorted)\n",
    "\n",
    "            for topk_row_idx in range(len(topk_matrix)):\n",
    "                for element in topk_matrix[topk_row_idx]:\n",
    "                   values[topk_row_idx][element] = 1\n",
    "\n",
    "        S_knn = np.dot(S, values)\n",
    "        return S_knn\n"
   ]
  },
  {
   "cell_type": "code",
   "execution_count": 109,
   "metadata": {},
   "outputs": [],
   "source": [
    "import pandas as p\n",
    "from scipy.sparse import hstack\n",
    "\n",
    "def build_icm():\n",
    "    MAX_ALBUM = 12744\n",
    "    MAX_ARTIST = 6668\n",
    "    MAX_DURATION = 2115\n",
    "\n",
    "    datafile = np.loadtxt('../data/tracks.csv', delimiter=',', skiprows=1, dtype=int)\n",
    "\n",
    "    tracks_list, album_list, artist_list, duration_list = zip(*datafile)\n",
    "    ratings = np.ones(len(album_list), dtype=int)\n",
    "\n",
    "    ICM_album = sps.csc_matrix((ratings, (tracks_list, album_list)))\n",
    "    ICM_artist = sps.csc_matrix((ratings, (tracks_list, artist_list)))\n",
    "    ICM_duration = sps.csc_matrix((ratings, (tracks_list, duration_list)))\n",
    "\n",
    "    ICM_partial = hstack((ICM_album, ICM_artist))\n",
    "    ICM = hstack((ICM_partial, ICM_duration))\n",
    "\n",
    "    #return ICM\n",
    "    return ICM_partial\n",
    "\n"
   ]
  },
  {
   "cell_type": "code",
   "execution_count": 110,
   "metadata": {},
   "outputs": [
    {
     "name": "stdout",
     "output_type": "stream",
     "text": [
      "  (7894, 0)\t1\n",
      "  (0, 0)\t0\n",
      "  (20294, 1)\t1\n",
      "  (20122, 1)\t1\n",
      "  (19702, 1)\t1\n",
      "  (18947, 1)\t1\n",
      "  (18481, 1)\t1\n",
      "  (17795, 1)\t1\n",
      "  (17671, 1)\t1\n",
      "  (17352, 1)\t1\n",
      "  (17278, 1)\t1\n",
      "  (17156, 1)\t1\n",
      "  (16730, 1)\t1\n",
      "  (15877, 1)\t1\n",
      "  (15874, 1)\t1\n",
      "  (14985, 1)\t1\n",
      "  (14508, 1)\t1\n",
      "  (14293, 1)\t1\n",
      "  (13237, 1)\t1\n",
      "  (13213, 1)\t1\n",
      "  (12382, 1)\t1\n",
      "  (12167, 1)\t1\n",
      "  (11585, 1)\t1\n",
      "  (11119, 1)\t1\n",
      "  (10047, 1)\t1\n",
      "  :\t:\n",
      "  (5887, 20632)\t1\n",
      "  (5812, 20632)\t1\n",
      "  (3262, 20632)\t1\n",
      "  (1052, 20632)\t1\n",
      "  (20632, 20632)\t0\n",
      "  (6441, 20632)\t2\n",
      "  (2103, 20632)\t2\n",
      "  (20633, 20633)\t0\n",
      "  (20038, 20634)\t1\n",
      "  (15780, 20634)\t1\n",
      "  (14230, 20634)\t1\n",
      "  (13214, 20634)\t1\n",
      "  (12755, 20634)\t1\n",
      "  (11601, 20634)\t1\n",
      "  (11132, 20634)\t1\n",
      "  (9774, 20634)\t1\n",
      "  (8492, 20634)\t1\n",
      "  (3110, 20634)\t1\n",
      "  (2539, 20634)\t1\n",
      "  (1908, 20634)\t1\n",
      "  (20634, 20634)\t0\n",
      "  (19514, 20634)\t2\n",
      "  (13326, 20634)\t2\n",
      "  (8299, 20634)\t2\n",
      "  (4972, 20634)\t2\n"
     ]
    }
   ],
   "source": [
    "porcodio = build_icm()\n",
    "\n",
    "sim = Cosine_Similarity(porcodio, 100)\n",
    "cristo_il_porco = sim.compute()\n",
    "\n",
    "print(cristo_il_porco)"
   ]
  },
  {
   "cell_type": "code",
   "execution_count": 111,
   "metadata": {},
   "outputs": [
    {
     "name": "stderr",
     "output_type": "stream",
     "text": [
      "/usr/lib/python3.7/site-packages/scipy/sparse/compressed.py:746: SparseEfficiencyWarning: Changing the sparsity structure of a csr_matrix is expensive. lil_matrix is more efficient.\n",
      "  SparseEfficiencyWarning)\n"
     ]
    },
    {
     "ename": "IndexError",
     "evalue": "index (1) out of range (>= 1)",
     "output_type": "error",
     "traceback": [
      "\u001b[0;31m---------------------------------------------------------------------------\u001b[0m",
      "\u001b[0;31mIndexError\u001b[0m                                Traceback (most recent call last)",
      "\u001b[0;32m<ipython-input-111-91eb427dc89e>\u001b[0m in \u001b[0;36m<module>\u001b[0;34m\u001b[0m\n\u001b[0;32m----> 1\u001b[0;31m \u001b[0msim\u001b[0m\u001b[0;34m.\u001b[0m\u001b[0mtopK\u001b[0m\u001b[0;34m(\u001b[0m\u001b[0;36m10\u001b[0m\u001b[0;34m)\u001b[0m\u001b[0;34m\u001b[0m\u001b[0m\n\u001b[0m",
      "\u001b[0;32m<ipython-input-108-b209cbd32762>\u001b[0m in \u001b[0;36mtopK\u001b[0;34m(self, k)\u001b[0m\n\u001b[1;32m     68\u001b[0m             \u001b[0;32mfor\u001b[0m \u001b[0mtopk_row_idx\u001b[0m \u001b[0;32min\u001b[0m \u001b[0mrange\u001b[0m\u001b[0;34m(\u001b[0m\u001b[0mlen\u001b[0m\u001b[0;34m(\u001b[0m\u001b[0mtopk_matrix\u001b[0m\u001b[0;34m)\u001b[0m\u001b[0;34m)\u001b[0m\u001b[0;34m:\u001b[0m\u001b[0;34m\u001b[0m\u001b[0m\n\u001b[1;32m     69\u001b[0m                 \u001b[0;32mfor\u001b[0m \u001b[0melement\u001b[0m \u001b[0;32min\u001b[0m \u001b[0mtopk_matrix\u001b[0m\u001b[0;34m[\u001b[0m\u001b[0mtopk_row_idx\u001b[0m\u001b[0;34m]\u001b[0m\u001b[0;34m:\u001b[0m\u001b[0;34m\u001b[0m\u001b[0m\n\u001b[0;32m---> 70\u001b[0;31m                    \u001b[0mvalues\u001b[0m\u001b[0;34m[\u001b[0m\u001b[0mtopk_row_idx\u001b[0m\u001b[0;34m]\u001b[0m\u001b[0;34m[\u001b[0m\u001b[0melement\u001b[0m\u001b[0;34m]\u001b[0m \u001b[0;34m=\u001b[0m \u001b[0;36m1\u001b[0m\u001b[0;34m\u001b[0m\u001b[0m\n\u001b[0m\u001b[1;32m     71\u001b[0m \u001b[0;34m\u001b[0m\u001b[0m\n\u001b[1;32m     72\u001b[0m         \u001b[0mS_knn\u001b[0m \u001b[0;34m=\u001b[0m \u001b[0mnp\u001b[0m\u001b[0;34m.\u001b[0m\u001b[0mdot\u001b[0m\u001b[0;34m(\u001b[0m\u001b[0mS\u001b[0m\u001b[0;34m,\u001b[0m \u001b[0mvalues\u001b[0m\u001b[0;34m)\u001b[0m\u001b[0;34m\u001b[0m\u001b[0m\n",
      "\u001b[0;32m/usr/lib/python3.7/site-packages/scipy/sparse/compressed.py\u001b[0m in \u001b[0;36m__setitem__\u001b[0;34m(self, index, x)\u001b[0m\n\u001b[1;32m    665\u001b[0m             \u001b[0;32mreturn\u001b[0m\u001b[0;34m\u001b[0m\u001b[0m\n\u001b[1;32m    666\u001b[0m         \u001b[0mi\u001b[0m\u001b[0;34m,\u001b[0m \u001b[0mj\u001b[0m \u001b[0;34m=\u001b[0m \u001b[0mself\u001b[0m\u001b[0;34m.\u001b[0m\u001b[0m_swap\u001b[0m\u001b[0;34m(\u001b[0m\u001b[0;34m(\u001b[0m\u001b[0mi\u001b[0m\u001b[0;34m.\u001b[0m\u001b[0mravel\u001b[0m\u001b[0;34m(\u001b[0m\u001b[0;34m)\u001b[0m\u001b[0;34m,\u001b[0m \u001b[0mj\u001b[0m\u001b[0;34m.\u001b[0m\u001b[0mravel\u001b[0m\u001b[0;34m(\u001b[0m\u001b[0;34m)\u001b[0m\u001b[0;34m)\u001b[0m\u001b[0;34m)\u001b[0m\u001b[0;34m\u001b[0m\u001b[0m\n\u001b[0;32m--> 667\u001b[0;31m         \u001b[0mself\u001b[0m\u001b[0;34m.\u001b[0m\u001b[0m_set_many\u001b[0m\u001b[0;34m(\u001b[0m\u001b[0mi\u001b[0m\u001b[0;34m,\u001b[0m \u001b[0mj\u001b[0m\u001b[0;34m,\u001b[0m \u001b[0mx\u001b[0m\u001b[0;34m.\u001b[0m\u001b[0mravel\u001b[0m\u001b[0;34m(\u001b[0m\u001b[0;34m)\u001b[0m\u001b[0;34m)\u001b[0m\u001b[0;34m\u001b[0m\u001b[0m\n\u001b[0m\u001b[1;32m    668\u001b[0m \u001b[0;34m\u001b[0m\u001b[0m\n\u001b[1;32m    669\u001b[0m     \u001b[0;32mdef\u001b[0m \u001b[0m_setdiag\u001b[0m\u001b[0;34m(\u001b[0m\u001b[0mself\u001b[0m\u001b[0;34m,\u001b[0m \u001b[0mvalues\u001b[0m\u001b[0;34m,\u001b[0m \u001b[0mk\u001b[0m\u001b[0;34m)\u001b[0m\u001b[0;34m:\u001b[0m\u001b[0;34m\u001b[0m\u001b[0m\n",
      "\u001b[0;32m/usr/lib/python3.7/site-packages/scipy/sparse/compressed.py\u001b[0m in \u001b[0;36m_set_many\u001b[0;34m(self, i, j, x)\u001b[0m\n\u001b[1;32m    723\u001b[0m         \u001b[0mduplicate\u001b[0m \u001b[0mentries\u001b[0m\u001b[0;34m.\u001b[0m\u001b[0;34m\u001b[0m\u001b[0m\n\u001b[1;32m    724\u001b[0m         \"\"\"\n\u001b[0;32m--> 725\u001b[0;31m         \u001b[0mi\u001b[0m\u001b[0;34m,\u001b[0m \u001b[0mj\u001b[0m\u001b[0;34m,\u001b[0m \u001b[0mM\u001b[0m\u001b[0;34m,\u001b[0m \u001b[0mN\u001b[0m \u001b[0;34m=\u001b[0m \u001b[0mself\u001b[0m\u001b[0;34m.\u001b[0m\u001b[0m_prepare_indices\u001b[0m\u001b[0;34m(\u001b[0m\u001b[0mi\u001b[0m\u001b[0;34m,\u001b[0m \u001b[0mj\u001b[0m\u001b[0;34m)\u001b[0m\u001b[0;34m\u001b[0m\u001b[0m\n\u001b[0m\u001b[1;32m    726\u001b[0m \u001b[0;34m\u001b[0m\u001b[0m\n\u001b[1;32m    727\u001b[0m         \u001b[0mn_samples\u001b[0m \u001b[0;34m=\u001b[0m \u001b[0mlen\u001b[0m\u001b[0;34m(\u001b[0m\u001b[0mx\u001b[0m\u001b[0;34m)\u001b[0m\u001b[0;34m\u001b[0m\u001b[0m\n",
      "\u001b[0;32m/usr/lib/python3.7/site-packages/scipy/sparse/compressed.py\u001b[0m in \u001b[0;36m_prepare_indices\u001b[0;34m(self, i, j)\u001b[0m\n\u001b[1;32m    710\u001b[0m                                  (idx, bound))\n\u001b[1;32m    711\u001b[0m \u001b[0;34m\u001b[0m\u001b[0m\n\u001b[0;32m--> 712\u001b[0;31m         \u001b[0mcheck_bounds\u001b[0m\u001b[0;34m(\u001b[0m\u001b[0mi\u001b[0m\u001b[0;34m,\u001b[0m \u001b[0mM\u001b[0m\u001b[0;34m)\u001b[0m\u001b[0;34m\u001b[0m\u001b[0m\n\u001b[0m\u001b[1;32m    713\u001b[0m         \u001b[0mcheck_bounds\u001b[0m\u001b[0;34m(\u001b[0m\u001b[0mj\u001b[0m\u001b[0;34m,\u001b[0m \u001b[0mN\u001b[0m\u001b[0;34m)\u001b[0m\u001b[0;34m\u001b[0m\u001b[0m\n\u001b[1;32m    714\u001b[0m \u001b[0;34m\u001b[0m\u001b[0m\n",
      "\u001b[0;32m/usr/lib/python3.7/site-packages/scipy/sparse/compressed.py\u001b[0m in \u001b[0;36mcheck_bounds\u001b[0;34m(indices, bound)\u001b[0m\n\u001b[1;32m    704\u001b[0m             \u001b[0;32mif\u001b[0m \u001b[0midx\u001b[0m \u001b[0;34m>=\u001b[0m \u001b[0mbound\u001b[0m\u001b[0;34m:\u001b[0m\u001b[0;34m\u001b[0m\u001b[0m\n\u001b[1;32m    705\u001b[0m                 raise IndexError('index (%d) out of range (>= %d)' %\n\u001b[0;32m--> 706\u001b[0;31m                                  (idx, bound))\n\u001b[0m\u001b[1;32m    707\u001b[0m             \u001b[0midx\u001b[0m \u001b[0;34m=\u001b[0m \u001b[0mindices\u001b[0m\u001b[0;34m.\u001b[0m\u001b[0mmin\u001b[0m\u001b[0;34m(\u001b[0m\u001b[0;34m)\u001b[0m\u001b[0;34m\u001b[0m\u001b[0m\n\u001b[1;32m    708\u001b[0m             \u001b[0;32mif\u001b[0m \u001b[0midx\u001b[0m \u001b[0;34m<\u001b[0m \u001b[0;34m-\u001b[0m\u001b[0mbound\u001b[0m\u001b[0;34m:\u001b[0m\u001b[0;34m\u001b[0m\u001b[0m\n",
      "\u001b[0;31mIndexError\u001b[0m: index (1) out of range (>= 1)"
     ]
    }
   ],
   "source": [
    "sim.topK(10)"
   ]
  },
  {
   "cell_type": "code",
   "execution_count": 52,
   "metadata": {},
   "outputs": [
    {
     "data": {
      "text/plain": [
       "20635"
      ]
     },
     "execution_count": 52,
     "metadata": {},
     "output_type": "execute_result"
    }
   ],
   "source": [
    "sim._weighted_S.shape[0]"
   ]
  }
 ],
 "metadata": {
  "kernelspec": {
   "display_name": "Python 3",
   "language": "python",
   "name": "python3"
  },
  "language_info": {
   "codemirror_mode": {
    "name": "ipython",
    "version": 3
   },
   "file_extension": ".py",
   "mimetype": "text/x-python",
   "name": "python",
   "nbconvert_exporter": "python",
   "pygments_lexer": "ipython3",
   "version": "3.7.0"
  }
 },
 "nbformat": 4,
 "nbformat_minor": 2
}
